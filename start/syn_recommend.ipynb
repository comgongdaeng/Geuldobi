{
  "cells": [
    {
      "cell_type": "markdown",
      "metadata": {
        "id": "a_-ttbf2b7Da"
      },
      "source": [
        "## 필요한 라이브러리 설치, 사용할 모델 불러오기"
      ]
    },
    {
      "cell_type": "code",
      "source": [
        "!pip install konlpy"
      ],
      "metadata": {
        "colab": {
          "base_uri": "https://localhost:8080/"
        },
        "id": "jojI9yCW9K7R",
        "outputId": "9c3df04a-e5e1-4087-830c-2d56a4a2df14"
      },
      "execution_count": 1,
      "outputs": [
        {
          "output_type": "stream",
          "name": "stdout",
          "text": [
            "Looking in indexes: https://pypi.org/simple, https://us-python.pkg.dev/colab-wheels/public/simple/\n",
            "Requirement already satisfied: konlpy in /usr/local/lib/python3.8/dist-packages (0.6.0)\n",
            "Requirement already satisfied: JPype1>=0.7.0 in /usr/local/lib/python3.8/dist-packages (from konlpy) (1.4.1)\n",
            "Requirement already satisfied: lxml>=4.1.0 in /usr/local/lib/python3.8/dist-packages (from konlpy) (4.9.1)\n",
            "Requirement already satisfied: numpy>=1.6 in /usr/local/lib/python3.8/dist-packages (from konlpy) (1.21.6)\n",
            "Requirement already satisfied: packaging in /usr/local/lib/python3.8/dist-packages (from JPype1>=0.7.0->konlpy) (21.3)\n",
            "Requirement already satisfied: pyparsing!=3.0.5,>=2.0.2 in /usr/local/lib/python3.8/dist-packages (from packaging->JPype1>=0.7.0->konlpy) (3.0.9)\n"
          ]
        }
      ]
    },
    {
      "cell_type": "code",
      "execution_count": 2,
      "metadata": {
        "colab": {
          "base_uri": "https://localhost:8080/"
        },
        "id": "xqfkwg3r34Bm",
        "outputId": "e21feec0-1371-4cbe-9d7c-6025893d2bb4"
      },
      "outputs": [
        {
          "output_type": "stream",
          "name": "stdout",
          "text": [
            "Looking in indexes: https://pypi.org/simple, https://us-python.pkg.dev/colab-wheels/public/simple/\n",
            "Requirement already satisfied: transformers in /usr/local/lib/python3.8/dist-packages (4.25.1)\n",
            "Requirement already satisfied: tokenizers!=0.11.3,<0.14,>=0.11.1 in /usr/local/lib/python3.8/dist-packages (from transformers) (0.13.2)\n",
            "Requirement already satisfied: numpy>=1.17 in /usr/local/lib/python3.8/dist-packages (from transformers) (1.21.6)\n",
            "Requirement already satisfied: filelock in /usr/local/lib/python3.8/dist-packages (from transformers) (3.8.0)\n",
            "Requirement already satisfied: regex!=2019.12.17 in /usr/local/lib/python3.8/dist-packages (from transformers) (2022.6.2)\n",
            "Requirement already satisfied: pyyaml>=5.1 in /usr/local/lib/python3.8/dist-packages (from transformers) (6.0)\n",
            "Requirement already satisfied: packaging>=20.0 in /usr/local/lib/python3.8/dist-packages (from transformers) (21.3)\n",
            "Requirement already satisfied: requests in /usr/local/lib/python3.8/dist-packages (from transformers) (2.23.0)\n",
            "Requirement already satisfied: tqdm>=4.27 in /usr/local/lib/python3.8/dist-packages (from transformers) (4.64.1)\n",
            "Requirement already satisfied: huggingface-hub<1.0,>=0.10.0 in /usr/local/lib/python3.8/dist-packages (from transformers) (0.11.1)\n",
            "Requirement already satisfied: typing-extensions>=3.7.4.3 in /usr/local/lib/python3.8/dist-packages (from huggingface-hub<1.0,>=0.10.0->transformers) (4.1.1)\n",
            "Requirement already satisfied: pyparsing!=3.0.5,>=2.0.2 in /usr/local/lib/python3.8/dist-packages (from packaging>=20.0->transformers) (3.0.9)\n",
            "Requirement already satisfied: chardet<4,>=3.0.2 in /usr/local/lib/python3.8/dist-packages (from requests->transformers) (3.0.4)\n",
            "Requirement already satisfied: urllib3!=1.25.0,!=1.25.1,<1.26,>=1.21.1 in /usr/local/lib/python3.8/dist-packages (from requests->transformers) (1.24.3)\n",
            "Requirement already satisfied: idna<3,>=2.5 in /usr/local/lib/python3.8/dist-packages (from requests->transformers) (2.10)\n",
            "Requirement already satisfied: certifi>=2017.4.17 in /usr/local/lib/python3.8/dist-packages (from requests->transformers) (2022.9.24)\n"
          ]
        }
      ],
      "source": [
        "!pip install transformers\n",
        "from transformers import AutoTokenizer, AutoModelForMaskedLM\n",
        "import torch"
      ]
    },
    {
      "cell_type": "code",
      "source": [
        "from konlpy.tag import Okt\n",
        "import sys\n",
        "import requests\n",
        "from bs4 import BeautifulSoup\n",
        "okt = Okt()"
      ],
      "metadata": {
        "id": "5cmd-w5Y92vZ"
      },
      "execution_count": 3,
      "outputs": []
    },
    {
      "cell_type": "code",
      "execution_count": 4,
      "metadata": {
        "id": "OYyLH6EM7PY2"
      },
      "outputs": [],
      "source": [
        "tokenizer = AutoTokenizer.from_pretrained(\"klue/roberta-large\")\n",
        "\n",
        "model = AutoModelForMaskedLM.from_pretrained(\"klue/roberta-large\")"
      ]
    },
    {
      "cell_type": "markdown",
      "metadata": {
        "id": "_vUN-XLbcVYf"
      },
      "source": [
        "## 유의어 찾기"
      ]
    },
    {
      "cell_type": "markdown",
      "source": [
        "![image.png](data:image/png;base64,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)"
      ],
      "metadata": {
        "id": "xdgJMwN1U9UL"
      }
    },
    {
      "cell_type": "code",
      "source": [
        "#다음 사전에서 단어 입력하면 위에 뜨는 관련 단어들을 가져오는 함수\n",
        "def search_daum_dic(query_keyword):\n",
        "    dic_url = \"\"\"http://dic.daum.net/search.do?q={0}\"\"\"\n",
        "    r = requests.get(dic_url.format(query_keyword))\n",
        "    soup = BeautifulSoup(r.text, \"html.parser\")\n",
        "    result_means = soup.find_all(attrs={'class':'link_relate'})\n",
        "\n",
        "    word = []\n",
        "    i=0\n",
        "    for elem in result_means:\n",
        "        text = elem.get_text().strip()\n",
        "        word.append(text.split())\n",
        "    return word"
      ],
      "metadata": {
        "id": "YadKIPT38Bwo"
      },
      "execution_count": 5,
      "outputs": []
    },
    {
      "cell_type": "code",
      "source": [
        "#사용자가 바꾸려고 선택한(드래그한) 단어를 [MASK]로 치환해주는 함수\n",
        "def masking(word_list, new_input, mask):\n",
        "  i=0\n",
        "  for i in range(0, len(word_list)):\n",
        "    if new_input[i]==mask:\n",
        "      new_input[i] = \"[MASK]\"\n",
        "\n",
        "\n",
        "  print(new_input) #확인용\n",
        "  new_sentence = ' '.join(new_input)\n",
        "  return new_sentence"
      ],
      "metadata": {
        "id": "_yzSkmcZUNDz"
      },
      "execution_count": 6,
      "outputs": []
    },
    {
      "cell_type": "code",
      "source": [
        "#올바른 비교를 위해 모델의 input 문장과 유의어들을 전처리하는 함수\n",
        "def preprocess(new_sentence, mask):\n",
        "  synDict = search_daum_dic(mask)\n",
        "  i=0\n",
        "  if len(synDict)==0:\n",
        "    print(\"교체할 수 있는 단어가 없습니다\")\n",
        "    exit(0)\n",
        "  for i in range(0, len(synDict)): \n",
        "    synDict[i] = str(synDict[i])\n",
        "    synDict[i] = synDict[i].replace(\"['\",\"\")\n",
        "    synDict[i] = synDict[i].replace(\"']\",\"\")\n",
        "  #print(synDict) #참고용\n",
        "  new_sentence = new_sentence.replace(\"[MASK] \", \"[MASK]\")\n",
        "  return new_sentence, synDict"
      ],
      "metadata": {
        "id": "_WI_L0KaPCGo"
      },
      "execution_count": 7,
      "outputs": []
    },
    {
      "cell_type": "code",
      "execution_count": 8,
      "metadata": {
        "id": "gKkuJ7fqMO_a"
      },
      "outputs": [],
      "source": [
        "#확률값을 계산하고 그 값이 큰 단어부터 텐서를 정렬하는 함수\n",
        "def calculate(new_sentence):\n",
        "  inputs = tokenizer(new_sentence, return_tensors=\"pt\")\n",
        "  with torch.no_grad():\n",
        "    logits = model(**inputs).logits\n",
        "  mask_token_index = (inputs.input_ids == tokenizer.mask_token_id)[0].nonzero(as_tuple=True)[0]\n",
        "  ts = torch.sort(logits[0, mask_token_index], dim=- 1, descending=True)\n",
        "  return ts"
      ]
    },
    {
      "cell_type": "code",
      "execution_count": 9,
      "metadata": {
        "id": "pbS8MHl5YIu-"
      },
      "outputs": [],
      "source": [
        "#텐서 안에 32000개의 단어의 인덱스가 들어가있습니다. 그래서 그만큼 비교하는 루프를 작성했습니다.\n",
        "def max_logit(tensor, synDict):\n",
        "  word_list = []\n",
        "  k=0\n",
        "  size = len(synDict)\n",
        "  for i in range(0, 32000):\n",
        "    for j in range(0,size):\n",
        "      if str(tokenizer.decode(tensor[1][0][i])) == synDict[j]:\n",
        "        word_list.append(tensor[1][0][i])\n",
        "        k+=1\n",
        "        break\n",
        "    if k==3:\n",
        "      break\n",
        "  return word_list"
      ]
    },
    {
      "cell_type": "code",
      "source": [
        "#문장을 입력하고 대체 단어를 추출하는 함수\n",
        "def recommend():\n",
        "  origin = str(input(\"문장을 입력해주세요:\"))\n",
        "  word_list = okt.pos(origin)\n",
        "  print(word_list)\n",
        "  print(\"바꿀 단어를 선택해주세요.\")\n",
        "  k=0\n",
        "  new_input = []\n",
        "  for k in range(0,len(word_list)):\n",
        "    new_input.append(word_list[k][0])\n",
        "  hubo = word_list\n",
        "  i=0\n",
        "  j=1\n",
        "  for i in range(len(word_list)):\n",
        "    if word_list[i][1]=='Adverb':\n",
        "      print(j, '. ', word_list[i][0])\n",
        "      hubo[j] = word_list[i][0]\n",
        "      j+=1\n",
        "  #Verb의 경우 활용형에 대한 처리가 특히 필요하므로 추후 개발 예정.\n",
        "  # elif word_list[i][1]=='Verb':\n",
        "  #   print(j, '. ', word_list[i][0])\n",
        "  #   hubo[j] = word_list[i][0]\n",
        "  #   j+=1\n",
        "    elif word_list[i][1]=='Noun':\n",
        "      print(j, '. ', word_list[i][0])\n",
        "      hubo[j] = word_list[i][0]\n",
        "      j+=1\n",
        "    elif word_list[i][1]=='Adjective':\n",
        "      print(j, '.', word_list[i][0])\n",
        "      hubo[j] = word_list[i][0]\n",
        "      j+=1\n",
        "    i+=1\n",
        "  n = int(input(\"바꿀 단어의 번호(숫자만 입력하세요) : \"))\n",
        "  mask = hubo[n]\n",
        "  #mask로 치환\n",
        "  new_sentence = masking(word_list, new_input, mask)\n",
        "  #비교를 위한 전처리\n",
        "  new_sentence, synDict = preprocess(new_sentence, mask)\n",
        "  ts = calculate(new_sentence)\n",
        "  a = []\n",
        "  if (synDict):\n",
        "    a = max_logit(ts, synDict)\n",
        "  i=0\n",
        "  for i in range(0,len(a)):#최대 세 개\n",
        "    print(tokenizer.decode(int(a[i])))"
      ],
      "metadata": {
        "id": "sjidZy6dxTtI"
      },
      "execution_count": 10,
      "outputs": []
    },
    {
      "cell_type": "code",
      "execution_count": 11,
      "metadata": {
        "id": "PCf27sROowJi",
        "colab": {
          "base_uri": "https://localhost:8080/"
        },
        "outputId": "76acad8f-c901-4c9c-fe00-16f6cde8f7dc"
      },
      "outputs": [
        {
          "output_type": "stream",
          "name": "stdout",
          "text": [
            "문장을 입력해주세요:여기에 문장을 적어보면 바꿀 수 있는 단어를 알려줄 거야\n",
            "[('여기', 'Noun'), ('에', 'Josa'), ('문장', 'Noun'), ('을', 'Josa'), ('적어', 'Verb'), ('보면', 'Verb'), ('바꿀', 'Verb'), ('수', 'Noun'), ('있는', 'Adjective'), ('단어', 'Noun'), ('를', 'Josa'), ('알려줄', 'Verb'), ('거야', 'Eomi')]\n",
            "바꿀 단어를 선택해주세요.\n",
            "1 .  여기\n",
            "2 .  문장\n",
            "3 .  수\n",
            "4 . 있는\n",
            "5 .  단어\n",
            "바꿀 단어의 번호(숫자만 입력하세요) : 2\n",
            "['여기', '에', '[MASK]', '을', '적어', '보면', '바꿀', '수', '있는', '단어', '를', '알려줄', '거야']\n",
            "글\n",
            "문법\n",
            "낱말\n"
          ]
        }
      ],
      "source": [
        "recommend()"
      ]
    },
    {
      "cell_type": "markdown",
      "source": [
        "##앞으로 해야 할 것:\n",
        "- 대체 가능어 사전을 어떻게 구축하고 끌어올지 결정  \n",
        "- 바꿀 수 있는 단어들의 활용형을 조건문을 통해 구현 \n",
        "  - 사용자가 '사용하려면'을 드래그한다면 '사용하다'의 유의어를 찾고 다시 활용형으로 변경\n",
        "  - 바뀐 대체어에 따라 조사의 형태를 변경(예: 은/는)  \n",
        "- 더 정확한 대체어 추천을 위해 다른 형태소 분석기 결정\n",
        "- 코드 수정해서 한 문장에 같은 단어가 있는 경우에도 드래그한 단어만 바꿀 수 있도록 처리"
      ],
      "metadata": {
        "id": "wSGQ5dglVPZE"
      }
    }
  ],
  "metadata": {
    "colab": {
      "provenance": []
    },
    "kernelspec": {
      "display_name": "Python 3",
      "name": "python3"
    },
    "language_info": {
      "name": "python"
    }
  },
  "nbformat": 4,
  "nbformat_minor": 0
}
